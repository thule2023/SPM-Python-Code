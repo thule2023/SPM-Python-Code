{
 "cells": [
  {
   "cell_type": "markdown",
   "id": "0146d9e3",
   "metadata": {},
   "source": [
    "**Step 1**: Convert multiple xls file to xlsx file to use openpyxl. The files we are received are xls files, which do not work with openpyxl \n"
   ]
  },
  {
   "cell_type": "code",
   "execution_count": 7,
   "id": "db62944c",
   "metadata": {},
   "outputs": [],
   "source": [
    "import win32com.client\n",
    "import os\n",
    "import glob\n",
    "o = win32com.client.Dispatch(\"Excel.Application\")\n",
    "o.Visible = False\n",
    "input_dir = r\"C:\\Users\\Thu Le\\Documents\\Documents\\SPM\\SPM 2022\"\n",
    "output_dir = r\"C:\\Users\\Thu Le\\Documents\\Documents\\SPM\\2022 New\"\n",
    "files = glob.glob(input_dir + \"/*.xls\")\n",
    "for filename in files:\n",
    "    file = os.path.basename(filename)\n",
    "    output = output_dir + '/' + file.replace('.xls','.xlsx')\n",
    "    wb = o.Workbooks.Open(filename)\n",
    "    wb.ActiveSheet.SaveAs(output,51)\n",
    "    wb.Close(True)"
   ]
  },
  {
   "cell_type": "markdown",
   "id": "5e38785c",
   "metadata": {},
   "source": [
    "**Step 2**: Combine Multiple Excel files into one File with multiple Worksheets"
   ]
  },
  {
   "cell_type": "code",
   "execution_count": 9,
   "id": "2f635dba",
   "metadata": {},
   "outputs": [],
   "source": [
    "import xlrd\n",
    "import openpyxl\n",
    "from openpyxl import Workbook\n",
    "from openpyxl import load_workbook\n",
    "dir_containing_files = r\"C:\\Users\\Thu Le\\Documents\\Documents\\SPM\\2022 New\"\n",
    "\n",
    "dest_wb = Workbook()\n",
    "\n",
    "for root, dir, filenames in os.walk(dir_containing_files):\n",
    "    for file in filenames:\n",
    "        file_name = file.split('.')[0]\n",
    "        \n",
    "        # Absolute Path for Excel files\n",
    "        file_path = os.path.abspath(os.path.join(root, file))\n",
    "        \n",
    "        # Create new sheet in destination Workbook\n",
    "        dest_wb.create_sheet(file_name)\n",
    "        dest_ws = dest_wb[file_name]\n",
    "        \n",
    "        # Read source data\n",
    "        source_wb = load_workbook(file_path)\n",
    "        source_sheet = source_wb.active\n",
    "        for row in source_sheet.rows:\n",
    "            for cell in row:\n",
    "                dest_ws[cell.coordinate] = cell.value\n",
    "        \n",
    "dest_wb.save(r\"C:\\Users\\Thu Le\\Documents\\Documents\\SPM\\2022_Test.xlsx\")"
   ]
  },
  {
   "cell_type": "markdown",
   "id": "f4608396",
   "metadata": {},
   "source": [
    "**Step 3:** Rename the each worksheet to Coc + Year, such as WI-501 2022. If the file contains \"Revised FY 2021\", rename to 2022Revised. Also remove the duplicate worksheets. "
   ]
  },
  {
   "cell_type": "code",
   "execution_count": 14,
   "id": "a04ee8d1",
   "metadata": {},
   "outputs": [],
   "source": [
    "# Rename the worksheets to CoC + Year\n",
    "workbook = openpyxl.load_workbook(r\"C:\\Users\\Thu Le\\Documents\\Documents\\SPM\\2022_Test.xlsx\")\n",
    "for sheet in workbook:\n",
    "    sheet_name = sheet.title\n",
    "    first = str(sheet['B5'].value)\n",
    "    if \"Revised\" in str(sheet['E16'].value) :\n",
    "        sheet.title = first[20:27]+\"2022Revised\"\n",
    "    else:\n",
    "        sheet.title = first[20:27]+\"2022\"        \n",
    "    #if len(sheet.title) == 12:\n",
    "        # Remove the worksheet from the Excel file if the length of the name of sheet is 12, which means duplicate sheet.       \n",
    "    workbook.save(r\"C:\\Users\\Thu Le\\Documents\\Documents\\SPM\\2022_Test.xlsx\")"
   ]
  },
  {
   "cell_type": "markdown",
   "id": "3e665f0b",
   "metadata": {},
   "source": [
    "**Step 4**: Fill the State on the header (A1 cell)"
   ]
  },
  {
   "cell_type": "code",
   "execution_count": 11,
   "id": "7c943179",
   "metadata": {},
   "outputs": [],
   "source": [
    "# Enter the State for Each Worksheet\n",
    "for sheet in workbook:\n",
    "    first = str(sheet['B5'].value)  \n",
    "    if \"WI\" in first:\n",
    "        sheet[\"A1\"] = \"Wisconsin\"\n",
    "    elif \"AK\" in first:\n",
    "        sheet[\"A1\"] = \"Alaska\"\n",
    "    elif \"IA\" in first:\n",
    "        sheet[\"A1\"] = \"Iowa\"\n",
    "    elif \"IL\" in first:\n",
    "        sheet[\"A1\"] = \"Illinois\"  \n",
    "    elif \"MN\" in first:\n",
    "        sheet[\"A1\"] = \"Minnesota\"\n",
    "    elif \"MO\" in first:\n",
    "        sheet[\"A1\"] = \"Missouri\"\n",
    "    elif \"ND\" in first:\n",
    "        sheet[\"A1\"] = \"North Dakota\"\n",
    "    elif \"NE\" in first:\n",
    "        sheet[\"A1\"] = \"Nebraska\"\n",
    "    elif \"NH\" in first:\n",
    "        sheet[\"A1\"] = \"New Hampshire\"\n",
    "    elif \"VT\" in first:\n",
    "        sheet[\"A1\"] = \"Vermont\"\n",
    "    elif \"WY\" in first:\n",
    "        sheet[\"A1\"] = \"Wyoming\"\n",
    "    elif \"ID\" in first:\n",
    "        sheet[\"A1\"] = \"Idaho\"\n",
    "    elif \"SC\" in first:\n",
    "        sheet[\"A1\"] = \"South Carolina\"\n",
    "    else:\n",
    "        sheet[\"A1\"] = \"Missing\"\n",
    "    workbook.save(r\"C:\\Users\\Thu Le\\Documents\\Documents\\SPM\\2022_Test.xlsx\")"
   ]
  },
  {
   "cell_type": "markdown",
   "id": "23809949",
   "metadata": {},
   "source": [
    "**Step 5**: Remove all the files in 2022 New folder to prepare the folder for output"
   ]
  },
  {
   "cell_type": "code",
   "execution_count": 2,
   "id": "452f9b1a",
   "metadata": {},
   "outputs": [],
   "source": [
    "dir_containing_files = r\"C:\\Users\\Thu Le\\Documents\\Documents\\SPM\\2022 New\"\n",
    "import os\n",
    "for root, dir, filenames in os.walk(dir_containing_files):\n",
    "    for file in filenames:     \n",
    "        # Absolute Path for Excel files\n",
    "        file_path = os.path.abspath(os.path.join(root, file))\n",
    "        os.remove(file_path)"
   ]
  },
  {
   "cell_type": "code",
   "execution_count": null,
   "id": "9702b391",
   "metadata": {},
   "outputs": [],
   "source": []
  }
 ],
 "metadata": {
  "kernelspec": {
   "display_name": "Python 3 (ipykernel)",
   "language": "python",
   "name": "python3"
  },
  "language_info": {
   "codemirror_mode": {
    "name": "ipython",
    "version": 3
   },
   "file_extension": ".py",
   "mimetype": "text/x-python",
   "name": "python",
   "nbconvert_exporter": "python",
   "pygments_lexer": "ipython3",
   "version": "3.9.12"
  }
 },
 "nbformat": 4,
 "nbformat_minor": 5
}
